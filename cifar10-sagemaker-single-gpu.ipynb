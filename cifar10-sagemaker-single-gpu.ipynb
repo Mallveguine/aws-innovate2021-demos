{
 "cells": [
  {
   "cell_type": "markdown",
   "metadata": {},
   "source": [
    "# ***Demo: Single-GPU Training with Amazon SageMaker***"
   ]
  },
  {
   "cell_type": "code",
   "execution_count": 1,
   "metadata": {
    "jupyter": {
     "source_hidden": true
    }
   },
   "outputs": [],
   "source": [
    "# !pip install sagemaker --upgrade -q\n",
    "# !pip install ipywidgets -q\n",
    "# !wget https://raw.githubusercontent.com/awslabs/amazon-sagemaker-examples/master/advanced_functionality/tensorflow_bring_your_own/utils/generate_cifar10_tfrecords.py\n",
    "# !python generate_cifar10_tfrecords.py --data-dir cifar10"
   ]
  },
  {
   "cell_type": "markdown",
   "metadata": {},
   "source": [
    "**Step 1:** Import essentials packages, start a sagemaker session and specify the bucket name you created in the pre-requsites section of this workshop."
   ]
  },
  {
   "cell_type": "code",
   "execution_count": 2,
   "metadata": {},
   "outputs": [],
   "source": [
    "import os\n",
    "import boto3\n",
    "import time\n",
    "import numpy as np\n",
    "import sagemaker\n",
    "\n",
    "sess = boto3.Session()\n",
    "sm   = sess.client('sagemaker')\n",
    "sagemaker_session = sagemaker.Session()\n",
    "role = sagemaker.get_execution_role()\n",
    "\n",
    "bucket_name    = sagemaker_session.default_bucket()\n",
    "jobs_folder    = 'jobs'\n",
    "dataset_folder = 'datasets'"
   ]
  },
  {
   "cell_type": "markdown",
   "metadata": {},
   "source": [
    "![](https://miro.medium.com/max/1000/0*GRfvsrvtfpRm400-)"
   ]
  },
  {
   "cell_type": "markdown",
   "metadata": {},
   "source": [
    "#### Upload dataset if it doesn't exist"
   ]
  },
  {
   "cell_type": "code",
   "execution_count": 3,
   "metadata": {
    "jupyter": {
     "source_hidden": true
    }
   },
   "outputs": [
    {
     "data": {
      "text/plain": [
       "'s3://sagemaker-us-west-2-453691756499/datasets/cifar10-dataset'"
      ]
     },
     "execution_count": 3,
     "metadata": {},
     "output_type": "execute_result"
    }
   ],
   "source": [
    "# datasets = sagemaker_session.upload_data(path='cifar10', key_prefix=f'{dataset_folder}/cifar10-dataset')\n",
    "# datasets\n",
    "\n",
    "#If dataset already exists\n",
    "datasets = f's3://{bucket_name}/{dataset_folder}/cifar10-dataset'\n",
    "datasets"
   ]
  },
  {
   "cell_type": "markdown",
   "metadata": {},
   "source": [
    "**Step 2:** Specify hyperparameters, instance type and number of instances to distribute training to. "
   ]
  },
  {
   "cell_type": "code",
   "execution_count": 4,
   "metadata": {},
   "outputs": [],
   "source": [
    "job_name   = f'tf-single-gpu-{time.strftime(\"%Y-%m-%d-%H-%M-%S-%j\", time.gmtime())}'\n",
    "output_path = f's3://{bucket_name}/{jobs_folder}'\n",
    "\n",
    "metric_definitions = [{'Name': 'Validation Accuracy', 'Regex': 'Validation Accuracy: ([0-9\\\\.]+)'}]\n",
    "\n",
    "hyperparameters = {'epochs': 50, \n",
    "                   'learning-rate': 0.01,\n",
    "                   'momentum': 0.95,\n",
    "                   'weight-decay': 2e-4,\n",
    "                   'optimizer': 'adam',\n",
    "                   'batch-size' : 256,\n",
    "                   'model-type': 'custom'}\n"
   ]
  },
  {
   "cell_type": "code",
   "execution_count": 5,
   "metadata": {},
   "outputs": [],
   "source": [
    "from sagemaker.tensorflow import TensorFlow\n",
    "smdp_estimator = TensorFlow(entry_point         = 'cifar10-tf2.py', \n",
    "                           source_dir           = 'code',\n",
    "                           output_path          = output_path + '/',\n",
    "                           code_location        = output_path,\n",
    "                           role                 = role,\n",
    "                           instance_count       = 1,\n",
    "                           instance_type        = 'ml.p3.2xlarge',\n",
    "                           framework_version    = '2.3.1', \n",
    "                           py_version           = 'py37',\n",
    "                           metric_definitions   = metric_definitions,\n",
    "                           hyperparameters      = hyperparameters)"
   ]
  },
  {
   "cell_type": "markdown",
   "metadata": {},
   "source": [
    "**Step 4:** Specify dataset locations in Amazon S3 and then call the fit function."
   ]
  },
  {
   "cell_type": "code",
   "execution_count": 6,
   "metadata": {
    "scrolled": true
   },
   "outputs": [
    {
     "name": "stdout",
     "output_type": "stream",
     "text": [
      "2021-01-29 21:05:58 Starting - Starting the training job...\n",
      "2021-01-29 21:06:21 Starting - Launching requested ML instancesProfilerReport-1611954357: InProgress\n",
      "......\n",
      "2021-01-29 21:07:28 Starting - Preparing the instances for training.........\n",
      "2021-01-29 21:08:46 Downloading - Downloading input data...\n",
      "2021-01-29 21:09:23 Training - Downloading the training image......\n",
      "2021-01-29 21:10:24 Training - Training image download completed. Training in progress.\u001b[34m2021-01-29 21:10:23.400565: W tensorflow/core/profiler/internal/smprofiler_timeline.cc:460] Initializing the SageMaker Profiler.\u001b[0m\n",
      "\u001b[34m2021-01-29 21:10:23.409758: W tensorflow/core/profiler/internal/smprofiler_timeline.cc:105] SageMaker Profiler is not enabled. The timeline writer thread will not be started, future recorded events will be dropped.\u001b[0m\n",
      "\u001b[34m2021-01-29 21:10:23.606884: I tensorflow/stream_executor/platform/default/dso_loader.cc:48] Successfully opened dynamic library libcudart.so.10.2\u001b[0m\n",
      "\u001b[34m2021-01-29 21:10:23.688348: W tensorflow/core/profiler/internal/smprofiler_timeline.cc:460] Initializing the SageMaker Profiler.\u001b[0m\n",
      "\u001b[34m2021-01-29 21:10:26,638 sagemaker-training-toolkit INFO     Imported framework sagemaker_tensorflow_container.training\u001b[0m\n",
      "\u001b[34m2021-01-29 21:10:27,021 sagemaker-training-toolkit INFO     Installing dependencies from requirements.txt:\u001b[0m\n",
      "\u001b[34m/usr/local/bin/python3.7 -m pip install -r requirements.txt\u001b[0m\n",
      "\u001b[34mRequirement already satisfied: Pillow in /usr/local/lib/python3.7/site-packages (from -r requirements.txt (line 1)) (7.2.0)\u001b[0m\n",
      "\u001b[34mRequirement already satisfied: numpy in /usr/local/lib/python3.7/site-packages (from -r requirements.txt (line 2)) (1.18.5)\u001b[0m\n",
      "\u001b[34mWARNING: You are using pip version 20.3.3; however, version 21.0 is available.\u001b[0m\n",
      "\u001b[34mYou should consider upgrading via the '/usr/local/bin/python3.7 -m pip install --upgrade pip' command.\n",
      "\u001b[0m\n",
      "\u001b[34m2021-01-29 21:10:28,833 sagemaker-training-toolkit INFO     Invoking user script\n",
      "\u001b[0m\n",
      "\u001b[34mTraining Env:\n",
      "\u001b[0m\n",
      "\u001b[34m{\n",
      "    \"additional_framework_parameters\": {},\n",
      "    \"channel_input_dirs\": {\n",
      "        \"eval\": \"/opt/ml/input/data/eval\",\n",
      "        \"validation\": \"/opt/ml/input/data/validation\",\n",
      "        \"train\": \"/opt/ml/input/data/train\"\n",
      "    },\n",
      "    \"current_host\": \"algo-1\",\n",
      "    \"framework_module\": \"sagemaker_tensorflow_container.training:main\",\n",
      "    \"hosts\": [\n",
      "        \"algo-1\"\n",
      "    ],\n",
      "    \"hyperparameters\": {\n",
      "        \"model-type\": \"custom\",\n",
      "        \"momentum\": 0.95,\n",
      "        \"batch-size\": 256,\n",
      "        \"learning-rate\": 0.01,\n",
      "        \"optimizer\": \"adam\",\n",
      "        \"model_dir\": \"s3://sagemaker-us-west-2-453691756499/jobs/tf-single-gpu-2021-01-29-21-05-57-029/model\",\n",
      "        \"weight-decay\": 0.0002,\n",
      "        \"epochs\": 50\n",
      "    },\n",
      "    \"input_config_dir\": \"/opt/ml/input/config\",\n",
      "    \"input_data_config\": {\n",
      "        \"eval\": {\n",
      "            \"TrainingInputMode\": \"File\",\n",
      "            \"S3DistributionType\": \"FullyReplicated\",\n",
      "            \"RecordWrapperType\": \"None\"\n",
      "        },\n",
      "        \"validation\": {\n",
      "            \"TrainingInputMode\": \"File\",\n",
      "            \"S3DistributionType\": \"FullyReplicated\",\n",
      "            \"RecordWrapperType\": \"None\"\n",
      "        },\n",
      "        \"train\": {\n",
      "            \"TrainingInputMode\": \"File\",\n",
      "            \"S3DistributionType\": \"FullyReplicated\",\n",
      "            \"RecordWrapperType\": \"None\"\n",
      "        }\n",
      "    },\n",
      "    \"input_dir\": \"/opt/ml/input\",\n",
      "    \"is_master\": true,\n",
      "    \"job_name\": \"tf-single-gpu-2021-01-29-21-05-57-029\",\n",
      "    \"log_level\": 20,\n",
      "    \"master_hostname\": \"algo-1\",\n",
      "    \"model_dir\": \"/opt/ml/model\",\n",
      "    \"module_dir\": \"s3://sagemaker-us-west-2-453691756499/jobs/tf-single-gpu-2021-01-29-21-05-57-029/source/sourcedir.tar.gz\",\n",
      "    \"module_name\": \"cifar10-tf2\",\n",
      "    \"network_interface_name\": \"eth0\",\n",
      "    \"num_cpus\": 8,\n",
      "    \"num_gpus\": 1,\n",
      "    \"output_data_dir\": \"/opt/ml/output/data\",\n",
      "    \"output_dir\": \"/opt/ml/output\",\n",
      "    \"output_intermediate_dir\": \"/opt/ml/output/intermediate\",\n",
      "    \"resource_config\": {\n",
      "        \"current_host\": \"algo-1\",\n",
      "        \"hosts\": [\n",
      "            \"algo-1\"\n",
      "        ],\n",
      "        \"network_interface_name\": \"eth0\"\n",
      "    },\n",
      "    \"user_entry_point\": \"cifar10-tf2.py\"\u001b[0m\n",
      "\u001b[34m}\n",
      "\u001b[0m\n",
      "\u001b[34mEnvironment variables:\n",
      "\u001b[0m\n",
      "\u001b[34mSM_HOSTS=[\"algo-1\"]\u001b[0m\n",
      "\u001b[34mSM_NETWORK_INTERFACE_NAME=eth0\u001b[0m\n",
      "\u001b[34mSM_HPS={\"batch-size\":256,\"epochs\":50,\"learning-rate\":0.01,\"model-type\":\"custom\",\"model_dir\":\"s3://sagemaker-us-west-2-453691756499/jobs/tf-single-gpu-2021-01-29-21-05-57-029/model\",\"momentum\":0.95,\"optimizer\":\"adam\",\"weight-decay\":0.0002}\u001b[0m\n",
      "\u001b[34mSM_USER_ENTRY_POINT=cifar10-tf2.py\u001b[0m\n",
      "\u001b[34mSM_FRAMEWORK_PARAMS={}\u001b[0m\n",
      "\u001b[34mSM_RESOURCE_CONFIG={\"current_host\":\"algo-1\",\"hosts\":[\"algo-1\"],\"network_interface_name\":\"eth0\"}\u001b[0m\n",
      "\u001b[34mSM_INPUT_DATA_CONFIG={\"eval\":{\"RecordWrapperType\":\"None\",\"S3DistributionType\":\"FullyReplicated\",\"TrainingInputMode\":\"File\"},\"train\":{\"RecordWrapperType\":\"None\",\"S3DistributionType\":\"FullyReplicated\",\"TrainingInputMode\":\"File\"},\"validation\":{\"RecordWrapperType\":\"None\",\"S3DistributionType\":\"FullyReplicated\",\"TrainingInputMode\":\"File\"}}\u001b[0m\n",
      "\u001b[34mSM_OUTPUT_DATA_DIR=/opt/ml/output/data\u001b[0m\n",
      "\u001b[34mSM_CHANNELS=[\"eval\",\"train\",\"validation\"]\u001b[0m\n",
      "\u001b[34mSM_CURRENT_HOST=algo-1\u001b[0m\n",
      "\u001b[34mSM_MODULE_NAME=cifar10-tf2\u001b[0m\n",
      "\u001b[34mSM_LOG_LEVEL=20\u001b[0m\n",
      "\u001b[34mSM_FRAMEWORK_MODULE=sagemaker_tensorflow_container.training:main\u001b[0m\n",
      "\u001b[34mSM_INPUT_DIR=/opt/ml/input\u001b[0m\n",
      "\u001b[34mSM_INPUT_CONFIG_DIR=/opt/ml/input/config\u001b[0m\n",
      "\u001b[34mSM_OUTPUT_DIR=/opt/ml/output\u001b[0m\n",
      "\u001b[34mSM_NUM_CPUS=8\u001b[0m\n",
      "\u001b[34mSM_NUM_GPUS=1\u001b[0m\n",
      "\u001b[34mSM_MODEL_DIR=/opt/ml/model\u001b[0m\n",
      "\u001b[34mSM_MODULE_DIR=s3://sagemaker-us-west-2-453691756499/jobs/tf-single-gpu-2021-01-29-21-05-57-029/source/sourcedir.tar.gz\u001b[0m\n",
      "\u001b[34mSM_TRAINING_ENV={\"additional_framework_parameters\":{},\"channel_input_dirs\":{\"eval\":\"/opt/ml/input/data/eval\",\"train\":\"/opt/ml/input/data/train\",\"validation\":\"/opt/ml/input/data/validation\"},\"current_host\":\"algo-1\",\"framework_module\":\"sagemaker_tensorflow_container.training:main\",\"hosts\":[\"algo-1\"],\"hyperparameters\":{\"batch-size\":256,\"epochs\":50,\"learning-rate\":0.01,\"model-type\":\"custom\",\"model_dir\":\"s3://sagemaker-us-west-2-453691756499/jobs/tf-single-gpu-2021-01-29-21-05-57-029/model\",\"momentum\":0.95,\"optimizer\":\"adam\",\"weight-decay\":0.0002},\"input_config_dir\":\"/opt/ml/input/config\",\"input_data_config\":{\"eval\":{\"RecordWrapperType\":\"None\",\"S3DistributionType\":\"FullyReplicated\",\"TrainingInputMode\":\"File\"},\"train\":{\"RecordWrapperType\":\"None\",\"S3DistributionType\":\"FullyReplicated\",\"TrainingInputMode\":\"File\"},\"validation\":{\"RecordWrapperType\":\"None\",\"S3DistributionType\":\"FullyReplicated\",\"TrainingInputMode\":\"File\"}},\"input_dir\":\"/opt/ml/input\",\"is_master\":true,\"job_name\":\"tf-single-gpu-2021-01-29-21-05-57-029\",\"log_level\":20,\"master_hostname\":\"algo-1\",\"model_dir\":\"/opt/ml/model\",\"module_dir\":\"s3://sagemaker-us-west-2-453691756499/jobs/tf-single-gpu-2021-01-29-21-05-57-029/source/sourcedir.tar.gz\",\"module_name\":\"cifar10-tf2\",\"network_interface_name\":\"eth0\",\"num_cpus\":8,\"num_gpus\":1,\"output_data_dir\":\"/opt/ml/output/data\",\"output_dir\":\"/opt/ml/output\",\"output_intermediate_dir\":\"/opt/ml/output/intermediate\",\"resource_config\":{\"current_host\":\"algo-1\",\"hosts\":[\"algo-1\"],\"network_interface_name\":\"eth0\"},\"user_entry_point\":\"cifar10-tf2.py\"}\u001b[0m\n",
      "\u001b[34mSM_USER_ARGS=[\"--batch-size\",\"256\",\"--epochs\",\"50\",\"--learning-rate\",\"0.01\",\"--model-type\",\"custom\",\"--model_dir\",\"s3://sagemaker-us-west-2-453691756499/jobs/tf-single-gpu-2021-01-29-21-05-57-029/model\",\"--momentum\",\"0.95\",\"--optimizer\",\"adam\",\"--weight-decay\",\"0.0002\"]\u001b[0m\n",
      "\u001b[34mSM_OUTPUT_INTERMEDIATE_DIR=/opt/ml/output/intermediate\u001b[0m\n",
      "\u001b[34mSM_CHANNEL_EVAL=/opt/ml/input/data/eval\u001b[0m\n",
      "\u001b[34mSM_CHANNEL_VALIDATION=/opt/ml/input/data/validation\u001b[0m\n",
      "\u001b[34mSM_CHANNEL_TRAIN=/opt/ml/input/data/train\u001b[0m\n",
      "\u001b[34mSM_HP_MODEL-TYPE=custom\u001b[0m\n",
      "\u001b[34mSM_HP_MOMENTUM=0.95\u001b[0m\n",
      "\u001b[34mSM_HP_BATCH-SIZE=256\u001b[0m\n",
      "\u001b[34mSM_HP_LEARNING-RATE=0.01\u001b[0m\n",
      "\u001b[34mSM_HP_OPTIMIZER=adam\u001b[0m\n",
      "\u001b[34mSM_HP_MODEL_DIR=s3://sagemaker-us-west-2-453691756499/jobs/tf-single-gpu-2021-01-29-21-05-57-029/model\u001b[0m\n",
      "\u001b[34mSM_HP_WEIGHT-DECAY=0.0002\u001b[0m\n",
      "\u001b[34mSM_HP_EPOCHS=50\u001b[0m\n",
      "\u001b[34mPYTHONPATH=/opt/ml/code:/usr/local/bin:/usr/local/lib/python37.zip:/usr/local/lib/python3.7:/usr/local/lib/python3.7/lib-dynload:/usr/local/lib/python3.7/site-packages\n",
      "\u001b[0m\n",
      "\u001b[34mInvoking script with the following command:\n",
      "\u001b[0m\n",
      "\u001b[34m/usr/local/bin/python3.7 cifar10-tf2.py --batch-size 256 --epochs 50 --learning-rate 0.01 --model-type custom --model_dir s3://sagemaker-us-west-2-453691756499/jobs/tf-single-gpu-2021-01-29-21-05-57-029/model --momentum 0.95 --optimizer adam --weight-decay 0.0002\n",
      "\n",
      "\u001b[0m\n",
      "\u001b[34m====== Getting model architecture: custom ======\u001b[0m\n",
      "\u001b[34m[2021-01-29 21:10:37.416 ip-10-0-193-77.us-west-2.compute.internal:37 INFO utils.py:27] RULE_JOB_STOP_SIGNAL_FILENAME: None\u001b[0m\n",
      "\u001b[34m[2021-01-29 21:10:37.648 ip-10-0-193-77.us-west-2.compute.internal:37 INFO profiler_config_parser.py:102] User has disabled profiler.\u001b[0m\n",
      "\u001b[34m[2021-01-29 21:10:37.649 ip-10-0-193-77.us-west-2.compute.internal:37 INFO json_config.py:91] Creating hook from json_config at /opt/ml/input/config/debughookconfig.json.\u001b[0m\n",
      "\u001b[34m[2021-01-29 21:10:37.649 ip-10-0-193-77.us-west-2.compute.internal:37 INFO hook.py:199] tensorboard_dir has not been set for the hook. SMDebug will not be exporting tensorboard summaries.\u001b[0m\n",
      "\u001b[34m[2021-01-29 21:10:37.782 ip-10-0-193-77.us-west-2.compute.internal:37 INFO hook.py:253] Saving to /opt/ml/output/tensors\u001b[0m\n",
      "\u001b[34m[2021-01-29 21:10:37.782 ip-10-0-193-77.us-west-2.compute.internal:37 INFO state_store.py:67] The checkpoint config file /opt/ml/input/config/checkpointconfig.json does not exist.\u001b[0m\n",
      "\u001b[34m[2021-01-29 21:10:37.782 ip-10-0-193-77.us-west-2.compute.internal:37 INFO hook.py:413] Monitoring the collections: metrics, losses, sm_metrics\u001b[0m\n",
      "\u001b[34mEpoch: 1, Epoch duration: 0.007245779037475586 sec, Training loss: 2.3989992141723633, Training accuracy: 12.407352447509766 Validation Loss: 2.1502673625946045, Validation Accuracy: 17.29767608642578\u001b[0m\n",
      "\u001b[34mEpoch: 2, Epoch duration: 0.007204771041870117 sec, Training loss: 2.1387646198272705, Training accuracy: 14.893829345703125 Validation Loss: 2.3435115814208984, Validation Accuracy: 11.538461685180664\u001b[0m\n",
      "\u001b[34mEpoch: 3, Epoch duration: 0.007390022277832031 sec, Training loss: 2.0568947792053223, Training accuracy: 17.34024429321289 Validation Loss: 1.9413461685180664, Validation Accuracy: 22.536056518554688\u001b[0m\n",
      "\u001b[34mEpoch: 4, Epoch duration: 0.007169008255004883 sec, Training loss: 2.018115997314453, Training accuracy: 18.214141845703125 Validation Loss: 1.9491608142852783, Validation Accuracy: 20.482772827148438\u001b[0m\n",
      "\u001b[34mEpoch: 5, Epoch duration: 0.007217884063720703 sec, Training loss: 1.9938864707946777, Training accuracy: 18.156551361083984 Validation Loss: 1.9280937910079956, Validation Accuracy: 20.85336685180664\u001b[0m\n",
      "\u001b[34mEpoch: 6, Epoch duration: 0.007135868072509766 sec, Training loss: 1.9727914333343506, Training accuracy: 19.656450271606445 Validation Loss: 1.8555593490600586, Validation Accuracy: 23.707931518554688\u001b[0m\n",
      "\u001b[34mEpoch: 7, Epoch duration: 0.007211446762084961 sec, Training loss: 1.9371310472488403, Training accuracy: 22.203025817871094 Validation Loss: 2.191066026687622, Validation Accuracy: 19.03044891357422\u001b[0m\n",
      "\u001b[34mEpoch: 8, Epoch duration: 0.007213115692138672 sec, Training loss: 1.8155771493911743, Training accuracy: 28.247695922851562 Validation Loss: 1.668903112411499, Validation Accuracy: 34.26482391357422\u001b[0m\n",
      "\u001b[34mEpoch: 9, Epoch duration: 0.007393836975097656 sec, Training loss: 1.5926169157028198, Training accuracy: 39.45062255859375 Validation Loss: 1.481805443763733, Validation Accuracy: 44.62139129638672\u001b[0m\n",
      "\u001b[34mEpoch: 10, Epoch duration: 0.007183551788330078 sec, Training loss: 1.4318768978118896, Training accuracy: 47.76142120361328 Validation Loss: 1.4139440059661865, Validation Accuracy: 49.61939239501953\u001b[0m\n",
      "\u001b[34mEpoch: 11, Epoch duration: 0.007363796234130859 sec, Training loss: 1.280993938446045, Training accuracy: 54.96043395996094 Validation Loss: 1.1655168533325195, Validation Accuracy: 57.64222717285156\u001b[0m\n",
      "\u001b[34mEpoch: 12, Epoch duration: 0.00732421875 sec, Training loss: 1.1865746974945068, Training accuracy: 58.779048919677734 Validation Loss: 1.0608855485916138, Validation Accuracy: 62.26963424682617\u001b[0m\n",
      "\u001b[34mEpoch: 13, Epoch duration: 0.0071048736572265625 sec, Training loss: 1.118706226348877, Training accuracy: 61.25050354003906 Validation Loss: 1.0682942867279053, Validation Accuracy: 61.568511962890625\u001b[0m\n",
      "\u001b[34mEpoch: 14, Epoch duration: 0.007256984710693359 sec, Training loss: 1.0607030391693115, Training accuracy: 63.914764404296875 Validation Loss: 1.105298638343811, Validation Accuracy: 62.46995162963867\u001b[0m\n",
      "\u001b[34mEpoch: 15, Epoch duration: 0.007338523864746094 sec, Training loss: 1.006759762763977, Training accuracy: 65.99559020996094 Validation Loss: 0.9040164351463318, Validation Accuracy: 68.1690673828125\u001b[0m\n",
      "\u001b[34mEpoch: 16, Epoch duration: 0.007199525833129883 sec, Training loss: 0.9526407122612, Training accuracy: 67.881103515625 Validation Loss: 1.0752289295196533, Validation Accuracy: 62.38982009887695\u001b[0m\n",
      "\u001b[34mEpoch: 17, Epoch duration: 0.0072896480560302734 sec, Training loss: 0.9096230864524841, Training accuracy: 69.52374267578125 Validation Loss: 0.8455807566642761, Validation Accuracy: 70.693115234375\u001b[0m\n",
      "\u001b[34mEpoch: 18, Epoch duration: 0.0071125030517578125 sec, Training loss: 0.8837984800338745, Training accuracy: 70.595458984375 Validation Loss: 1.0231691598892212, Validation Accuracy: 65.90544891357422\u001b[0m\n",
      "\u001b[34mEpoch: 19, Epoch duration: 0.007353067398071289 sec, Training loss: 0.8496443033218384, Training accuracy: 71.80738830566406 Validation Loss: 0.8858558535575867, Validation Accuracy: 70.41265869140625\u001b[0m\n",
      "\u001b[34mEpoch: 20, Epoch duration: 0.007322072982788086 sec, Training loss: 0.8259590268135071, Training accuracy: 72.82151794433594 Validation Loss: 0.8493531942367554, Validation Accuracy: 71.81490325927734\u001b[0m\n",
      "\u001b[34mEpoch: 21, Epoch duration: 0.007378101348876953 sec, Training loss: 0.8040079474449158, Training accuracy: 73.25721740722656 Validation Loss: 0.6841045618057251, Validation Accuracy: 76.61257934570312\u001b[0m\n",
      "\u001b[34mEpoch: 22, Epoch duration: 0.007312774658203125 sec, Training loss: 0.7793057560920715, Training accuracy: 74.12109375 Validation Loss: 0.6987220644950867, Validation Accuracy: 76.10176086425781\u001b[0m\n",
      "\u001b[34mEpoch: 23, Epoch duration: 0.007220745086669922 sec, Training loss: 0.7587969303131104, Training accuracy: 74.92988586425781 Validation Loss: 0.6906647086143494, Validation Accuracy: 76.90304565429688\u001b[0m\n",
      "\u001b[34mEpoch: 24, Epoch duration: 0.007459878921508789 sec, Training loss: 0.7371872663497925, Training accuracy: 75.53335571289062 Validation Loss: 0.664068341255188, Validation Accuracy: 77.58413696289062\u001b[0m\n",
      "\u001b[34mEpoch: 25, Epoch duration: 0.00724029541015625 sec, Training loss: 0.7248888611793518, Training accuracy: 75.868896484375 Validation Loss: 0.662095308303833, Validation Accuracy: 77.8946304321289\u001b[0m\n",
      "\u001b[34mEpoch: 26, Epoch duration: 0.00730443000793457 sec, Training loss: 0.7092641592025757, Training accuracy: 76.5274429321289 Validation Loss: 0.6380794048309326, Validation Accuracy: 78.10496520996094\u001b[0m\n",
      "\u001b[34mEpoch: 27, Epoch duration: 0.007322549819946289 sec, Training loss: 0.6981093883514404, Training accuracy: 77.05078125 Validation Loss: 0.6232417821884155, Validation Accuracy: 78.72596740722656\u001b[0m\n",
      "\u001b[34mEpoch: 28, Epoch duration: 0.0071833133697509766 sec, Training loss: 0.6862761378288269, Training accuracy: 77.53155517578125 Validation Loss: 0.6395456790924072, Validation Accuracy: 78.82612609863281\u001b[0m\n",
      "\u001b[34mEpoch: 29, Epoch duration: 0.007322549819946289 sec, Training loss: 0.6777476668357849, Training accuracy: 77.80699157714844 Validation Loss: 0.6448395848274231, Validation Accuracy: 78.37539672851562\u001b[0m\n",
      "\u001b[34mEpoch: 30, Epoch duration: 0.007261991500854492 sec, Training loss: 0.6653988361358643, Training accuracy: 77.99980163574219 Validation Loss: 0.578528106212616, Validation Accuracy: 80.53886413574219\u001b[0m\n",
      "\u001b[34mEpoch: 31, Epoch duration: 0.0073528289794921875 sec, Training loss: 0.6553456783294678, Training accuracy: 78.51312255859375 Validation Loss: 0.6773754358291626, Validation Accuracy: 76.5625\u001b[0m\n",
      "\u001b[34mEpoch: 32, Epoch duration: 0.007273674011230469 sec, Training loss: 0.6437353491783142, Training accuracy: 78.95632934570312 Validation Loss: 0.6147893071174622, Validation Accuracy: 78.7459945678711\u001b[0m\n",
      "\u001b[34mEpoch: 33, Epoch duration: 0.007400035858154297 sec, Training loss: 0.6409949660301208, Training accuracy: 78.7735366821289 Validation Loss: 0.5573202967643738, Validation Accuracy: 81.06971740722656\u001b[0m\n",
      "\u001b[34mEpoch: 34, Epoch duration: 0.007417201995849609 sec, Training loss: 0.6252620220184326, Training accuracy: 79.29437255859375 Validation Loss: 0.6609468460083008, Validation Accuracy: 77.38381958007812\u001b[0m\n",
      "\u001b[34mEpoch: 35, Epoch duration: 0.007098197937011719 sec, Training loss: 0.6169143915176392, Training accuracy: 79.60987854003906 Validation Loss: 0.5625852346420288, Validation Accuracy: 80.59895324707031\u001b[0m\n",
      "\u001b[34mEpoch: 36, Epoch duration: 0.007164478302001953 sec, Training loss: 0.6087657809257507, Training accuracy: 79.90034484863281 Validation Loss: 0.6232510209083557, Validation Accuracy: 78.69590759277344\u001b[0m\n",
      "\u001b[34mEpoch: 37, Epoch duration: 0.007403135299682617 sec, Training loss: 0.5993779301643372, Training accuracy: 80.32601928710938 Validation Loss: 0.6267510056495667, Validation Accuracy: 78.96634674072266\u001b[0m\n",
      "\u001b[34mEpoch: 38, Epoch duration: 0.007151603698730469 sec, Training loss: 0.598518967628479, Training accuracy: 80.1807861328125 Validation Loss: 0.6327901482582092, Validation Accuracy: 78.42547607421875\u001b[0m\n",
      "\u001b[34mEpoch: 39, Epoch duration: 0.007061958312988281 sec, Training loss: 0.5875549912452698, Training accuracy: 80.44371032714844 Validation Loss: 0.5438896417617798, Validation Accuracy: 81.58052825927734\u001b[0m\n",
      "\u001b[34mEpoch: 40, Epoch duration: 0.007462501525878906 sec, Training loss: 0.5768235921859741, Training accuracy: 80.85186767578125 Validation Loss: 0.6006577014923096, Validation Accuracy: 79.57732391357422\u001b[0m\n",
      "\u001b[34mEpoch: 41, Epoch duration: 0.007508754730224609 sec, Training loss: 0.5758493542671204, Training accuracy: 81.03465270996094 Validation Loss: 0.5522249937057495, Validation Accuracy: 81.4503173828125\u001b[0m\n",
      "\u001b[34mEpoch: 42, Epoch duration: 0.0072553157806396484 sec, Training loss: 0.5736458897590637, Training accuracy: 80.93949890136719 Validation Loss: 0.5661540627479553, Validation Accuracy: 80.96955108642578\u001b[0m\n",
      "\u001b[34mEpoch: 43, Epoch duration: 0.0070989131927490234 sec, Training loss: 0.5566370487213135, Training accuracy: 81.41276550292969 Validation Loss: 0.5180997848510742, Validation Accuracy: 82.44190979003906\u001b[0m\n",
      "\u001b[34mEpoch: 44, Epoch duration: 0.007194995880126953 sec, Training loss: 0.5527505278587341, Training accuracy: 81.89352416992188 Validation Loss: 0.5696452856063843, Validation Accuracy: 81.27003479003906\u001b[0m\n",
      "\u001b[34mEpoch: 45, Epoch duration: 0.007285594940185547 sec, Training loss: 0.5511298179626465, Training accuracy: 81.74578857421875 Validation Loss: 0.5449848771095276, Validation Accuracy: 81.47035217285156\u001b[0m\n",
      "\u001b[34mEpoch: 46, Epoch duration: 0.00697016716003418 sec, Training loss: 0.5432685613632202, Training accuracy: 82.18399047851562 Validation Loss: 0.504336416721344, Validation Accuracy: 83.10296630859375\u001b[0m\n",
      "\u001b[34mEpoch: 47, Epoch duration: 0.007147550582885742 sec, Training loss: 0.5377732515335083, Training accuracy: 82.0663070678711 Validation Loss: 0.519106924533844, Validation Accuracy: 82.53205108642578\u001b[0m\n",
      "\u001b[34mEpoch: 48, Epoch duration: 0.007165193557739258 sec, Training loss: 0.5338271260261536, Training accuracy: 82.1915054321289 Validation Loss: 0.5531295537948608, Validation Accuracy: 81.17988586425781\u001b[0m\n",
      "\u001b[34mEpoch: 49, Epoch duration: 0.007479429244995117 sec, Training loss: 0.5305333733558655, Training accuracy: 82.50450134277344 Validation Loss: 0.6454883217811584, Validation Accuracy: 79.55729675292969\u001b[0m\n",
      "\u001b[34mEpoch: 50, Epoch duration: 0.007422208786010742 sec, Training loss: 0.5249786376953125, Training accuracy: 82.66226196289062 Validation Loss: 0.538463830947876, Validation Accuracy: 81.76081848144531\u001b[0m\n",
      "\u001b[34m====== Test Results ======\u001b[0m\n",
      "\u001b[34mTest loss: 0.5681125521659851, Test accuracy: 81.19992065429688\u001b[0m\n",
      "\u001b[34m====== End of training ======\u001b[0m\n",
      "\u001b[34m2021-01-29 21:10:29.197867: W tensorflow/core/profiler/internal/smprofiler_timeline.cc:460] Initializing the SageMaker Profiler.\u001b[0m\n",
      "\u001b[34m2021-01-29 21:10:29.198060: W tensorflow/core/profiler/internal/smprofiler_timeline.cc:105] SageMaker Profiler is not enabled. The timeline writer thread will not be started, future recorded events will be dropped.\u001b[0m\n",
      "\u001b[34m2021-01-29 21:10:29.240094: W tensorflow/core/profiler/internal/smprofiler_timeline.cc:460] Initializing the SageMaker Profiler.\u001b[0m\n",
      "\u001b[34mWARNING:tensorflow:From /usr/local/lib/python3.7/site-packages/tensorflow/python/training/tracking/tracking.py:111: Model.state_updates (from tensorflow.python.keras.engine.training) is deprecated and will be removed in a future version.\u001b[0m\n",
      "\u001b[34mInstructions for updating:\u001b[0m\n",
      "\u001b[34mThis property should not be used in TensorFlow 2.0, as updates are applied automatically.\u001b[0m\n",
      "\u001b[34mWARNING:tensorflow:From /usr/local/lib/python3.7/site-packages/tensorflow/python/training/tracking/tracking.py:111: Model.state_updates (from tensorflow.python.keras.engine.training) is deprecated and will be removed in a future version.\u001b[0m\n",
      "\u001b[34mInstructions for updating:\u001b[0m\n",
      "\u001b[34mThis property should not be used in TensorFlow 2.0, as updates are applied automatically.\u001b[0m\n",
      "\u001b[34m2021-01-29 21:14:28.215285: W tensorflow/python/util/util.cc:348] Sets are not currently considered sequences, but this may change in the future, so consider avoiding using them.\u001b[0m\n",
      "\u001b[34mWARNING:tensorflow:From /usr/local/lib/python3.7/site-packages/tensorflow/python/training/tracking/tracking.py:111: Layer.updates (from tensorflow.python.keras.engine.base_layer) is deprecated and will be removed in a future version.\u001b[0m\n",
      "\u001b[34mInstructions for updating:\u001b[0m\n",
      "\u001b[34mThis property should not be used in TensorFlow 2.0, as updates are applied automatically.\u001b[0m\n",
      "\u001b[34mWARNING:tensorflow:From /usr/local/lib/python3.7/site-packages/tensorflow/python/training/tracking/tracking.py:111: Layer.updates (from tensorflow.python.keras.engine.base_layer) is deprecated and will be removed in a future version.\u001b[0m\n",
      "\u001b[34mInstructions for updating:\u001b[0m\n",
      "\u001b[34mThis property should not be used in TensorFlow 2.0, as updates are applied automatically.\u001b[0m\n",
      "\u001b[34mINFO:tensorflow:Assets written to: /opt/ml/model/1/assets\u001b[0m\n",
      "\u001b[34mINFO:tensorflow:Assets written to: /opt/ml/model/1/assets\n",
      "\u001b[0m\n",
      "\u001b[34m2021-01-29 21:14:32,203 sagemaker-training-toolkit INFO     Reporting training SUCCESS\u001b[0m\n",
      "\n",
      "2021-01-29 21:15:28 Uploading - Uploading generated training model\n",
      "2021-01-29 21:15:48 Completed - Training job completed\n",
      "ProfilerReport-1611954357: NoIssuesFound\n",
      "Training seconds: 409\n",
      "Billable seconds: 409\n"
     ]
    }
   ],
   "source": [
    "smdp_estimator.fit({'train': datasets,\n",
    "                    'validation': datasets,\n",
    "                    'eval': datasets}, \n",
    "                  job_name=job_name, wait=True)"
   ]
  },
  {
   "cell_type": "code",
   "execution_count": null,
   "metadata": {},
   "outputs": [],
   "source": []
  }
 ],
 "metadata": {
  "instance_type": "ml.t3.medium",
  "kernelspec": {
   "display_name": "Python 3 (TensorFlow 2.3 Python 3.7 CPU Optimized)",
   "language": "python",
   "name": "python3__SAGEMAKER_INTERNAL__arn:aws:sagemaker:us-west-2:236514542706:image/tensorflow-2.3-cpu-py37-ubuntu18.04-v1"
  },
  "language_info": {
   "codemirror_mode": {
    "name": "ipython",
    "version": 3
   },
   "file_extension": ".py",
   "mimetype": "text/x-python",
   "name": "python",
   "nbconvert_exporter": "python",
   "pygments_lexer": "ipython3",
   "version": "3.7.7"
  }
 },
 "nbformat": 4,
 "nbformat_minor": 4
}
